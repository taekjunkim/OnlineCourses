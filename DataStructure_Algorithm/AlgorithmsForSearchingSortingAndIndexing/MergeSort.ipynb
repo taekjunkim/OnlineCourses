{
  "nbformat": 4,
  "nbformat_minor": 0,
  "metadata": {
    "colab": {
      "name": "MergeSort.ipynb",
      "provenance": [],
      "authorship_tag": "ABX9TyMa+lXy71nMXBD6oXxHhbaU",
      "include_colab_link": true
    },
    "kernelspec": {
      "name": "python3",
      "display_name": "Python 3"
    },
    "language_info": {
      "name": "python"
    }
  },
  "cells": [
    {
      "cell_type": "markdown",
      "metadata": {
        "id": "view-in-github",
        "colab_type": "text"
      },
      "source": [
        "<a href=\"https://colab.research.google.com/github/taekjunkim/OnlineCourses/blob/main/DataStructure_Algorithm/AlgorithmsForSearchingSortingAndIndexing/MergeSort.ipynb\" target=\"_parent\"><img src=\"https://colab.research.google.com/assets/colab-badge.svg\" alt=\"Open In Colab\"/></a>"
      ]
    },
    {
      "cell_type": "markdown",
      "source": [
        "# **Merge Sort**  \n",
        "Merge Sort is a **Divide and Conquer** algorithm. Merge sort repeatedly breaks down a list into several sublists until each sublist consists of a single element and merging those sublists in a manner that results into a sorted list."
      ],
      "metadata": {
        "id": "hzt8SJNm48jJ"
      }
    },
    {
      "cell_type": "code",
      "source": [
        "def merge_sort(array):\n",
        "    # base case\n",
        "    if len(array)<=1:\n",
        "        return array;\n",
        "    else:\n",
        "        left = 0;\n",
        "        right = len(array); \n",
        "        mid = int((left+right)/2);\n",
        "\n",
        "        return merge(merge_sort(array[left:mid]),merge_sort(array[mid:right])); \n",
        "\n",
        "def merge(array1, array2):\n",
        "    p1 = 0; \n",
        "    p2 = 0; \n",
        "\n",
        "    merged_array = []; \n",
        "    while p1<len(array1) and p2<len(array2):\n",
        "        if array1[p1]<=array2[p2]:\n",
        "            merged_array.append(array1[p1]); \n",
        "            p1 += 1; \n",
        "        else:\n",
        "            merged_array.append(array2[p2]);\n",
        "            p2 += 1;\n",
        "    if p1<len(array1):\n",
        "        merged_array = merged_array + array1[p1:]\n",
        "    elif p2<len(array2):   \n",
        "        merged_array = merged_array + array2[p2:]\n",
        "\n",
        "    return merged_array\n",
        "\n",
        "\n",
        "array = [0, 1, 2, 6, 18, 19, -20, -45, -23, 25, 56, 19, 81, 123, 122]\n",
        "\n",
        "print(merge_sort(array))"
      ],
      "metadata": {
        "colab": {
          "base_uri": "https://localhost:8080/"
        },
        "id": "ryMj_VecA7Se",
        "outputId": "09be5659-5e53-4fd6-ef31-2963fb3b5973"
      },
      "execution_count": null,
      "outputs": [
        {
          "output_type": "stream",
          "name": "stdout",
          "text": [
            "[-45, -23, -20, 0, 1, 2, 6, 18, 19, 19, 25, 56, 81, 122, 123]\n"
          ]
        }
      ]
    }
  ]
}