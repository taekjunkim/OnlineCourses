{
  "nbformat": 4,
  "nbformat_minor": 0,
  "metadata": {
    "colab": {
      "name": "BinarySearch.ipynb",
      "provenance": [],
      "authorship_tag": "ABX9TyOnzFfBzQPgRs+1sQriut3o",
      "include_colab_link": true
    },
    "kernelspec": {
      "name": "python3",
      "display_name": "Python 3"
    },
    "language_info": {
      "name": "python"
    }
  },
  "cells": [
    {
      "cell_type": "markdown",
      "metadata": {
        "id": "view-in-github",
        "colab_type": "text"
      },
      "source": [
        "<a href=\"https://colab.research.google.com/github/taekjunkim/OnlineCourses/blob/main/DataStructure_Algorithm/AlgorithmsForSearchingSortingAndIndexing/BinarySearch.ipynb\" target=\"_parent\"><img src=\"https://colab.research.google.com/assets/colab-badge.svg\" alt=\"Open In Colab\"/></a>"
      ]
    },
    {
      "cell_type": "markdown",
      "source": [
        "# **Binary Search: Problem Description**\n",
        "**Problem**: \n",
        "> Does the given element belong to the sorted list of numbers?"
      ],
      "metadata": {
        "id": "bE25lejlcdJT"
      }
    },
    {
      "cell_type": "markdown",
      "source": [
        "**Input:**\n",
        "> sorted list of numbers: [1, 6, 7, 19, 22, 25, 31, 55];  \n",
        "> element: 18\n",
        "\n",
        "**Expected Answer:**\n",
        "> False (element is not in the list)\n"
      ],
      "metadata": {
        "id": "WEaCxfRXda49"
      }
    },
    {
      "cell_type": "markdown",
      "source": [
        "**Input:**\n",
        "> sorted list of numbers: [1, 6, 7, 19, 22, 25, 31, 55];  \n",
        "> element: 6\n",
        "\n",
        "**Expected Answer:**\n",
        "> True, Index: 1\n"
      ],
      "metadata": {
        "id": "SmPy9hfMddEq"
      }
    },
    {
      "cell_type": "markdown",
      "source": [
        "# **Binary Search: basic idea**\n",
        "> Search a sorted array by repeatedly dividing the search interval in half. Begin with an interval covering the whole array. If the value of the search key is less than the item in the middle of the interval, narrow the interval to the lower half. Otherwise, narrow it to the upper half. Repeatedly check until the value is found or the interval is empty."
      ],
      "metadata": {
        "id": "W1EmcrTufDIC"
      }
    },
    {
      "cell_type": "code",
      "source": [
        "### implementation 1\n",
        "\n",
        "def binary_search(array, element):\n",
        "\n",
        "    # left pointer init\n",
        "    left = 0\n",
        "    # right pointer init\n",
        "    right = len(array); \n",
        "    # mid pointer \n",
        "    mid = int((left+right)/2); \n",
        "\n",
        "    if element==array[mid]:\n",
        "        return mid\n",
        "    elif element<array[mid]:\n",
        "        right = mid; \n",
        "        if right <= left:\n",
        "            return None\n",
        "    elif element>array[mid]:\n",
        "        left = mid+1; \n",
        "        if right <= left:\n",
        "            return None\n",
        "    \n",
        "    if binary_search(array[left:right],element) is not None:\n",
        "        return left + binary_search(array[left:right],element)\n",
        "    else:\n",
        "        return None; \n",
        "\n",
        "array = [1, 6, 7, 19, 22, 25, 31, 55];\n",
        "\n",
        "print(binary_search(array, 55))"
      ],
      "metadata": {
        "colab": {
          "base_uri": "https://localhost:8080/"
        },
        "id": "RXjo1Wp0fsy8",
        "outputId": "c8c1bcaf-53a2-4c33-e807-561c108d2a5c"
      },
      "execution_count": 25,
      "outputs": [
        {
          "output_type": "stream",
          "name": "stdout",
          "text": [
            "7\n"
          ]
        }
      ]
    },
    {
      "cell_type": "code",
      "source": [
        "### implementation using loop\n",
        "\n",
        "def binary_search(array, element):\n",
        "\n",
        "    # left pointer init\n",
        "    left = 0\n",
        "    # right pointer init\n",
        "    right = len(array); \n",
        "    # mid pointer \n",
        "    mid = int((left+right)/2); \n",
        "\n",
        "    while right>left:\n",
        "        if array[mid]==element:\n",
        "            return mid;\n",
        "        elif array[mid]>element:\n",
        "            right = mid;\n",
        "        else:\n",
        "            left = mid+1; \n",
        "        mid = int((left+right)/2); \n",
        "\n",
        "    return None\n",
        "\n",
        "array = [1, 6, 7, 19, 22, 25, 31, 55];\n",
        "\n",
        "print(binary_search(array, 8))"
      ],
      "metadata": {
        "colab": {
          "base_uri": "https://localhost:8080/"
        },
        "id": "Wwls0p0DmK4H",
        "outputId": "2150e860-ee6e-498a-9556-81e670aef423"
      },
      "execution_count": 28,
      "outputs": [
        {
          "output_type": "stream",
          "name": "stdout",
          "text": [
            "None\n"
          ]
        }
      ]
    }
  ]
}