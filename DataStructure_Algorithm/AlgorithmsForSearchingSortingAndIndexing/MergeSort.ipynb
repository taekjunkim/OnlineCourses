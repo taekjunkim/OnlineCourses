{
  "nbformat": 4,
  "nbformat_minor": 0,
  "metadata": {
    "colab": {
      "name": "MergeSort.ipynb",
      "provenance": [],
      "authorship_tag": "ABX9TyPQF6VgErZb1KQoDRz3vSSq",
      "include_colab_link": true
    },
    "kernelspec": {
      "name": "python3",
      "display_name": "Python 3"
    },
    "language_info": {
      "name": "python"
    }
  },
  "cells": [
    {
      "cell_type": "markdown",
      "metadata": {
        "id": "view-in-github",
        "colab_type": "text"
      },
      "source": [
        "<a href=\"https://colab.research.google.com/github/taekjunkim/OnlineCourses/blob/main/DataStructure_Algorithm/AlgorithmsForSearchingSortingAndIndexing/MergeSort.ipynb\" target=\"_parent\"><img src=\"https://colab.research.google.com/assets/colab-badge.svg\" alt=\"Open In Colab\"/></a>"
      ]
    },
    {
      "cell_type": "markdown",
      "source": [
        "# **Insertion Sort**  \n",
        "1. If it is the first element, it is already sorted.\n",
        "2. Pick the next element.\n",
        "3. Compare with all the elements in sorted sub-list.\n",
        "4. Shift all the the elements in sorted sub-list that is greater than the value to be sorted.\n",
        "5. Insert the value.\n",
        "6. Repeat until list is sorted."
      ],
      "metadata": {
        "id": "hzt8SJNm48jJ"
      }
    },
    {
      "cell_type": "code",
      "source": [
        "def insertion_sort(array, ascending=1):\n",
        "    for i in range(1,len(array)):\n",
        "        key = array[i];\n",
        "\n",
        "        # insert key into sorted\n",
        "        j = i-1; \n",
        "        while j>=0:\n",
        "            if ascending==0:\n",
        "                if array[j]<key:\n",
        "                    array[j+1] = array[j];\n",
        "                    array[j] = key;\n",
        "                    j = j-1; \n",
        "                else:\n",
        "                  break;                \n",
        "            elif ascending==1:      \n",
        "                if array[j]>key:\n",
        "                    array[j+1] = array[j];\n",
        "                    array[j] = key;\n",
        "                    j = j-1; \n",
        "                else:\n",
        "                  break;                \n",
        "\n",
        "    return array\n",
        "\n",
        "print(insertion_sort([3,9,2,7,8,0]))\n",
        "                "
      ],
      "metadata": {
        "colab": {
          "base_uri": "https://localhost:8080/"
        },
        "id": "ryMj_VecA7Se",
        "outputId": "58147987-063d-4dd8-fdcb-df3e9d61bad7"
      },
      "execution_count": null,
      "outputs": [
        {
          "output_type": "stream",
          "name": "stdout",
          "text": [
            "[9, 8, 7, 3, 2, 0]\n"
          ]
        }
      ]
    }
  ]
}